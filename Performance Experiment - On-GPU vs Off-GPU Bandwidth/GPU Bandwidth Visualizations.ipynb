{
 "cells": [
  {
   "cell_type": "code",
   "execution_count": 1,
   "metadata": {},
   "outputs": [],
   "source": [
    "import pandas\n",
    "import matplotlib.pyplot as plt\n",
    "\n",
    "# Given the time a transfer took, amount transferred, number of transfers in the time period, and memory unit\n",
    "# return bandwidth for that transfer in GB/s\n",
    "def bandwidth_GB(elapsed_time, memory_amt, accesses, unit):\n",
    "    MEMORY_UNITS = {\"B\":1,\"KB\":2**10,\"MB\":2**20,\"GB\":2**30,\"TB\":2**40}\n",
    "    \n",
    "    if str(unit).upper() not in MEMORY_UNITS:\n",
    "        print(\"Invalid memory unit provided. Memory units are B, KB, MB, GB, and TB\")\n",
    "        return 0\n",
    "    \n",
    "    accessed_amt_bytes = memory_amt * MEMORY_UNITS[unit] * accesses\n",
    "    \n",
    "    bandwidth = (accessed_amt_bytes / elapsed_time)\n",
    "    \n",
    "    # Convert to GiB/s\n",
    "    return bandwidth / 2**30\n"
   ]
  },
  {
   "cell_type": "code",
   "execution_count": 3,
   "metadata": {},
   "outputs": [],
   "source": [
    "runs = pandas.read_csv(\"results.csv\")\n",
    "\n",
    "# This converts each row in runs to a single column of bandwidths for that transfer type\n",
    "bandwidths = pandas.DataFrame()\n",
    "\n",
    "# Loop through the different memory transfer types\n",
    "for i in range(len(runs.index)):\n",
    "    # Plug in the size, number of memory accesses, and unit of measure used with each type into a custom lambda based on our bandwidth function\n",
    "    custom_bandwidth = lambda time: bandwidth_GB(time,runs.iloc[i][\"size\"],runs.iloc[i][\"numAccesses\"],runs.iloc[i][\"unit\"])\n",
    "    \n",
    "    # Create a column in the output DataFrame for each run type, and fill it with bandwidths calculated from each run\n",
    "    bandwidths[f\"{runs.iloc[i,0]}\"] = runs.iloc[i,4:].apply(custom_bandwidth)\n",
    "    \n",
   ]
  },
  {
   "cell_type": "code",
   "execution_count": 4,
   "metadata": {},
   "outputs": [],
   "source": [
    "# Create a plot with a sub-boxplot for each transfer type\n",
    "fig, axes = plt.subplots(1,5, figsize=(8,2), dpi=120)\n",
    "\n",
    "axes[0].set_ylabel(\"Bandwidth (GiB/s)\")\n",
    "\n",
    "# Create each boxplot in its own dedicated plot and color\n",
    "colors = [\"lime\", \"orange\", \"yellow\", \"purple\", \"cyan\"]\n",
    "for i, col in enumerate(bandwidths.columns):\n",
    "    axes[i].boxplot(x=bandwidths[col], patch_artist=True, boxprops=dict(facecolor=colors[i]), medianprops=dict(color='red'), showfliers=False)\n",
    "    axes[i].set_xlabel(col)\n",
    "    axes[i].set_xticks([])\n",
    "    \n",
    "fig.patch.set_facecolor(\"whitesmoke\")\n",
    "plt.subplots_adjust(wspace=2)\n",
    "plt.suptitle(\"GPU Memory Transfer Bandwidths\")\n",
    "    \n",
    "plt.show()"
   ]
  },
  {
   "cell_type": "code",
   "execution_count": 5,
   "metadata": {},
   "outputs": [],
   "source": [
    "# Create a bar chart to more easily compare median bandwidths\n",
    "# kernelCopy is omitted because you wouldn't be able to see the other bars otherwise\n",
    "fig = plt.figure(dpi=120)\n",
    "fig.patch.set_facecolor(\"whitesmoke\")\n",
    "bandwidths.iloc[:,1:].median().plot(kind=\"bar\")\n",
    "plt.title(\"Bandwidth for CUDA API Memory Transfers\")\n",
    "plt.xticks(rotation=0)\n",
    "plt.ylabel(\"Bandwidth (GiB/s)\")\n",
    "plt.show()"
   ]
  },
 ],
 "metadata": {
  "kernelspec": {
   "display_name": "Python 3",
   "language": "python",
   "name": "python3"
  },
  "language_info": {
   "codemirror_mode": {
    "name": "ipython",
    "version": 3
    },
   "file_extension": ".py",
   "mimetype": "text/x-python",
   "name": "python",
   "nbconvert_exporter": "python",
   "pygments_lexer": "ipython3",
   "version": "3.8.3"
   }
 },
 "nbformat": 4,
 "nbformat_minor": 4
}
